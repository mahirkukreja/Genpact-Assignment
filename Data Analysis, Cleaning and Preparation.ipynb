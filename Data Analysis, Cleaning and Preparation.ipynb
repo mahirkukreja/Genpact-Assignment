{
 "cells": [
  {
   "cell_type": "code",
   "execution_count": 1,
   "metadata": {},
   "outputs": [],
   "source": [
    "# imports\n",
    "import warnings\n",
    "warnings.filterwarnings('ignore')\n",
    "import pandas as pd\n",
    "pd.set_option('display.max_rows', None)\n",
    "pd.set_option('display.max_columns', None)\n",
    "from sklearn.preprocessing import LabelEncoder"
   ]
  },
  {
   "cell_type": "code",
   "execution_count": 2,
   "metadata": {},
   "outputs": [],
   "source": [
    "# read both files\n",
    "train=pd.read_csv('training.csv')\n",
    "test=pd.read_csv('test.csv')"
   ]
  },
  {
   "cell_type": "code",
   "execution_count": 3,
   "metadata": {},
   "outputs": [],
   "source": [
    "# saving target variables\n",
    "y=train['SellingPrice']\n",
    "test_pred=test['SellingPrice']"
   ]
  },
  {
   "cell_type": "code",
   "execution_count": 4,
   "metadata": {},
   "outputs": [],
   "source": [
    "# joining train n test sets for easier preprocessing\n",
    "joined_data=train.append(test)"
   ]
  },
  {
   "cell_type": "code",
   "execution_count": 5,
   "metadata": {},
   "outputs": [],
   "source": [
    "# dropping irrelevant columns\n",
    "joined_data=joined_data.drop(['Unnamed: 0','SellingPrice'],axis=1)"
   ]
  },
  {
   "cell_type": "code",
   "execution_count": 6,
   "metadata": {},
   "outputs": [],
   "source": [
    "# separating train n test sets\n",
    "train=joined_data[0:train.shape[0]]\n",
    "test=joined_data[train.shape[0]:]"
   ]
  },
  {
   "cell_type": "code",
   "execution_count": 7,
   "metadata": {},
   "outputs": [
    {
     "data": {
      "text/plain": [
       "Index(['Kilometeres', 'Fuel_Type', 'Doors', 'Automatic', 'HorsePower',\n",
       "       'MetallicCol', 'CC', 'Wt', 'Age'],\n",
       "      dtype='object')"
      ]
     },
     "execution_count": 7,
     "metadata": {},
     "output_type": "execute_result"
    }
   ],
   "source": [
    "# columns within dataset\n",
    "train.columns"
   ]
  },
  {
   "cell_type": "code",
   "execution_count": 8,
   "metadata": {},
   "outputs": [
    {
     "data": {
      "text/html": [
       "<div>\n",
       "<style scoped>\n",
       "    .dataframe tbody tr th:only-of-type {\n",
       "        vertical-align: middle;\n",
       "    }\n",
       "\n",
       "    .dataframe tbody tr th {\n",
       "        vertical-align: top;\n",
       "    }\n",
       "\n",
       "    .dataframe thead th {\n",
       "        text-align: right;\n",
       "    }\n",
       "</style>\n",
       "<table border=\"1\" class=\"dataframe\">\n",
       "  <thead>\n",
       "    <tr style=\"text-align: right;\">\n",
       "      <th></th>\n",
       "      <th>Kilometeres</th>\n",
       "      <th>Doors</th>\n",
       "      <th>Automatic</th>\n",
       "      <th>HorsePower</th>\n",
       "      <th>MetallicCol</th>\n",
       "      <th>CC</th>\n",
       "      <th>Wt</th>\n",
       "      <th>Age</th>\n",
       "    </tr>\n",
       "  </thead>\n",
       "  <tbody>\n",
       "    <tr>\n",
       "      <th>count</th>\n",
       "      <td>958.000000</td>\n",
       "      <td>958.000000</td>\n",
       "      <td>958.000000</td>\n",
       "      <td>958.000000</td>\n",
       "      <td>958.000000</td>\n",
       "      <td>958.000000</td>\n",
       "      <td>958.000000</td>\n",
       "      <td>958.000000</td>\n",
       "    </tr>\n",
       "    <tr>\n",
       "      <th>mean</th>\n",
       "      <td>69067.598121</td>\n",
       "      <td>4.009395</td>\n",
       "      <td>0.056367</td>\n",
       "      <td>101.549061</td>\n",
       "      <td>0.669102</td>\n",
       "      <td>1566.651357</td>\n",
       "      <td>1072.701461</td>\n",
       "      <td>56.463466</td>\n",
       "    </tr>\n",
       "    <tr>\n",
       "      <th>std</th>\n",
       "      <td>37082.673742</td>\n",
       "      <td>0.955059</td>\n",
       "      <td>0.230750</td>\n",
       "      <td>14.556315</td>\n",
       "      <td>0.470782</td>\n",
       "      <td>184.850459</td>\n",
       "      <td>55.235835</td>\n",
       "      <td>18.332019</td>\n",
       "    </tr>\n",
       "    <tr>\n",
       "      <th>min</th>\n",
       "      <td>1.000000</td>\n",
       "      <td>2.000000</td>\n",
       "      <td>0.000000</td>\n",
       "      <td>69.000000</td>\n",
       "      <td>0.000000</td>\n",
       "      <td>1300.000000</td>\n",
       "      <td>1000.000000</td>\n",
       "      <td>1.000000</td>\n",
       "    </tr>\n",
       "    <tr>\n",
       "      <th>25%</th>\n",
       "      <td>43472.000000</td>\n",
       "      <td>3.000000</td>\n",
       "      <td>0.000000</td>\n",
       "      <td>90.000000</td>\n",
       "      <td>0.000000</td>\n",
       "      <td>1400.000000</td>\n",
       "      <td>1040.000000</td>\n",
       "      <td>44.000000</td>\n",
       "    </tr>\n",
       "    <tr>\n",
       "      <th>50%</th>\n",
       "      <td>63547.000000</td>\n",
       "      <td>4.000000</td>\n",
       "      <td>0.000000</td>\n",
       "      <td>110.000000</td>\n",
       "      <td>1.000000</td>\n",
       "      <td>1600.000000</td>\n",
       "      <td>1065.000000</td>\n",
       "      <td>61.000000</td>\n",
       "    </tr>\n",
       "    <tr>\n",
       "      <th>75%</th>\n",
       "      <td>87580.000000</td>\n",
       "      <td>5.000000</td>\n",
       "      <td>0.000000</td>\n",
       "      <td>110.000000</td>\n",
       "      <td>1.000000</td>\n",
       "      <td>1600.000000</td>\n",
       "      <td>1085.000000</td>\n",
       "      <td>70.000000</td>\n",
       "    </tr>\n",
       "    <tr>\n",
       "      <th>max</th>\n",
       "      <td>243000.000000</td>\n",
       "      <td>5.000000</td>\n",
       "      <td>1.000000</td>\n",
       "      <td>192.000000</td>\n",
       "      <td>1.000000</td>\n",
       "      <td>2000.000000</td>\n",
       "      <td>1615.000000</td>\n",
       "      <td>80.000000</td>\n",
       "    </tr>\n",
       "  </tbody>\n",
       "</table>\n",
       "</div>"
      ],
      "text/plain": [
       "         Kilometeres       Doors   Automatic  HorsePower  MetallicCol  \\\n",
       "count     958.000000  958.000000  958.000000  958.000000   958.000000   \n",
       "mean    69067.598121    4.009395    0.056367  101.549061     0.669102   \n",
       "std     37082.673742    0.955059    0.230750   14.556315     0.470782   \n",
       "min         1.000000    2.000000    0.000000   69.000000     0.000000   \n",
       "25%     43472.000000    3.000000    0.000000   90.000000     0.000000   \n",
       "50%     63547.000000    4.000000    0.000000  110.000000     1.000000   \n",
       "75%     87580.000000    5.000000    0.000000  110.000000     1.000000   \n",
       "max    243000.000000    5.000000    1.000000  192.000000     1.000000   \n",
       "\n",
       "                CC           Wt         Age  \n",
       "count   958.000000   958.000000  958.000000  \n",
       "mean   1566.651357  1072.701461   56.463466  \n",
       "std     184.850459    55.235835   18.332019  \n",
       "min    1300.000000  1000.000000    1.000000  \n",
       "25%    1400.000000  1040.000000   44.000000  \n",
       "50%    1600.000000  1065.000000   61.000000  \n",
       "75%    1600.000000  1085.000000   70.000000  \n",
       "max    2000.000000  1615.000000   80.000000  "
      ]
     },
     "execution_count": 8,
     "metadata": {},
     "output_type": "execute_result"
    }
   ],
   "source": [
    "# Doesn't look like the data has any anomalies\n",
    "train.describe()"
   ]
  },
  {
   "cell_type": "code",
   "execution_count": 9,
   "metadata": {},
   "outputs": [
    {
     "name": "stdout",
     "output_type": "stream",
     "text": [
      "Number of missing values Kilometeres    0\n",
      "Fuel_Type      0\n",
      "Doors          0\n",
      "Automatic      0\n",
      "HorsePower     0\n",
      "MetallicCol    0\n",
      "CC             0\n",
      "Wt             0\n",
      "Age            0\n",
      "dtype: int64\n"
     ]
    }
   ],
   "source": [
    "# No missing values, thi is good as the dataset is already quite small\n",
    "print(\"Number of missing values\",train.isnull().sum())"
   ]
  },
  {
   "cell_type": "code",
   "execution_count": 10,
   "metadata": {},
   "outputs": [
    {
     "name": "stdout",
     "output_type": "stream",
     "text": [
      "1.9049268513861988\n"
     ]
    }
   ],
   "source": [
    "# Target variable appears to be skewed\n",
    "print(y.skew())"
   ]
  },
  {
   "cell_type": "code",
   "execution_count": 11,
   "metadata": {},
   "outputs": [],
   "source": [
    "# encode fuel type so that it can be fed to an ML Model\n",
    "lb=LabelEncoder()\n",
    "train['Fuel_Type']=lb.fit_transform(train['Fuel_Type'])\n",
    "test['Fuel_Type']=lb.transform(test['Fuel_Type'])"
   ]
  },
  {
   "cell_type": "code",
   "execution_count": 12,
   "metadata": {},
   "outputs": [],
   "source": [
    "# saving prepped files and labels to disk\n",
    "test.to_csv('prepped_test.csv',index=False)\n",
    "train.to_csv('prepped_train.csv',index=False)\n",
    "y.to_frame().to_csv('target.csv',index=False)\n",
    "test_pred.to_frame().to_csv('target_test.csv',index=False)"
   ]
  }
 ],
 "metadata": {
  "kernelspec": {
   "display_name": "Python 3",
   "language": "python",
   "name": "python3"
  },
  "language_info": {
   "codemirror_mode": {
    "name": "ipython",
    "version": 3
   },
   "file_extension": ".py",
   "mimetype": "text/x-python",
   "name": "python",
   "nbconvert_exporter": "python",
   "pygments_lexer": "ipython3",
   "version": "3.7.1"
  }
 },
 "nbformat": 4,
 "nbformat_minor": 2
}
