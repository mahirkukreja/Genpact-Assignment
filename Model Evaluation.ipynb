{
 "cells": [
  {
   "cell_type": "code",
   "execution_count": 1,
   "metadata": {},
   "outputs": [],
   "source": [
    "# imports\n",
    "import warnings\n",
    "warnings.filterwarnings('ignore')\n",
    "import pandas as pd\n",
    "pd.set_option('display.max_rows', None)\n",
    "pd.set_option('display.max_columns', None)\n",
    "#import plotting libraries\n",
    "import seaborn as sns\n",
    "import matplotlib.pyplot as plt\n",
    "import numpy as np\n",
    "import matplotlib\n",
    "matplotlib.rcParams['figure.figsize'] = (18.0, 6.0)\n",
    "import seaborn as sns\n",
    "import xgboost as xgb\n",
    "import matplotlib.gridspec as gridspec\n",
    "from sklearn.metrics import r2_score"
   ]
  },
  {
   "cell_type": "code",
   "execution_count": 2,
   "metadata": {},
   "outputs": [],
   "source": [
    "# read both files\n",
    "train=pd.read_csv('prepped_train.csv')\n",
    "test=pd.read_csv('prepped_test.csv')"
   ]
  },
  {
   "cell_type": "code",
   "execution_count": 3,
   "metadata": {},
   "outputs": [],
   "source": [
    "# read labels\n",
    "y=pd.read_csv('target.csv')\n",
    "test_pred=pd.read_csv('target_test.csv')"
   ]
  },
  {
   "cell_type": "code",
   "execution_count": 4,
   "metadata": {},
   "outputs": [],
   "source": [
    "# best model based on cross validation\n",
    "params={'min_child_weight': 2, 'eta': 0.06998871283918584, 'colsample_bytree': 0.9728419042112689, 'max_depth': 4, 'subsample': 0.6787985041217602, 'gamma': 0.7867346749735359, 'silent': 1, 'verbose_eval': True}\n",
    "# max=0.9091834000000001\n",
    "# r2 =  0.9091834000000001"
   ]
  },
  {
   "cell_type": "code",
   "execution_count": 5,
   "metadata": {},
   "outputs": [],
   "source": [
    "# setup final phase of modelling\n",
    "X_train=train\n",
    "y_train=y"
   ]
  },
  {
   "cell_type": "code",
   "execution_count": 6,
   "metadata": {},
   "outputs": [],
   "source": [
    "# pass data in required format for xgboost\n",
    "xgtrain = xgb.DMatrix(X_train, label=y_train)"
   ]
  },
  {
   "cell_type": "code",
   "execution_count": 7,
   "metadata": {},
   "outputs": [],
   "source": [
    "# setup evaluation metric\n",
    "def xgb_eval_r2(yhat, dtrain):\n",
    "    y = dtrain.get_label()\n",
    "    return 'r2', (r2_score(y,yhat))"
   ]
  },
  {
   "cell_type": "code",
   "execution_count": 8,
   "metadata": {},
   "outputs": [],
   "source": [
    "# cv check\n",
    "cv = xgb.cv(params,\n",
    "                xgtrain,\n",
    "                nfold=5,feval=xgb_eval_r2,\n",
    "                num_boost_round=1000,\n",
    "                early_stopping_rounds=20, as_pandas=True,shuffle=True)"
   ]
  },
  {
   "cell_type": "code",
   "execution_count": 9,
   "metadata": {},
   "outputs": [],
   "source": [
    "# train final model\n",
    "model=xgb.train(params,xgtrain,num_boost_round=cv.index[-1])"
   ]
  },
  {
   "cell_type": "code",
   "execution_count": 10,
   "metadata": {},
   "outputs": [
    {
     "data": {
      "text/plain": [
       "0.9152567641302323"
      ]
     },
     "execution_count": 10,
     "metadata": {},
     "output_type": "execute_result"
    }
   ],
   "source": [
    "# r2 score on test data\n",
    "(r2_score(test_pred,(model.predict(xgb.DMatrix(test)))))"
   ]
  },
  {
   "cell_type": "code",
   "execution_count": 11,
   "metadata": {},
   "outputs": [
    {
     "data": {
      "text/plain": [
       "<matplotlib.axes._subplots.AxesSubplot at 0x7fc3f41df278>"
      ]
     },
     "execution_count": 11,
     "metadata": {},
     "output_type": "execute_result"
    },
    {
     "data": {
      "image/png": "[encoded data removed]",
      "text/plain": [
       "<Figure size 432x288 with 1 Axes>"
      ]
     },
     "metadata": {
      "needs_background": "light"
     },
     "output_type": "display_data"
    }
   ],
   "source": [
    "# feature importances\n",
    "xgb.plot_importance(model)"
   ]
  },
  {
   "cell_type": "code",
   "execution_count": 12,
   "metadata": {},
   "outputs": [
    {
     "name": "stderr",
     "output_type": "stream",
     "text": [
      "Warning: Could not load \"/root/anaconda3/lib/graphviz/libgvplugin_pango.so.6\" - file not found\n"
     ]
    },
    {
     "data": {
      "image/svg+xml": [
       "<?xml version=\"1.0\" encoding=\"UTF-8\" standalone=\"no\"?>\n",
       "<!DOCTYPE svg PUBLIC \"-//W3C//DTD SVG 1.1//EN\"\n",
       " \"http://www.w3.org/Graphics/SVG/1.1/DTD/svg11.dtd\">\n",
       "<!-- Generated by graphviz version 2.40.1 (20161225.0304)\n",
       " -->\n",
       "<!-- Title: %3 Pages: 1 -->\n",
       "<svg width=\"645pt\" height=\"887pt\"\n",
       " viewBox=\"0.00 0.00 645.38 886.95\" xmlns=\"http://www.w3.org/2000/svg\" xmlns:xlink=\"http://www.w3.org/1999/xlink\">\n",
       "<g id=\"graph0\" class=\"graph\" transform=\"scale(1 1) rotate(0) translate(4 882.954)\">\n",
       "<title>%3</title>\n",
       "<polygon fill=\"#ffffff\" stroke=\"transparent\" points=\"-4,4 -4,-882.954 641.375,-882.954 641.375,4 -4,4\"/>\n",
       "<!-- 0 -->\n",
       "<g id=\"node1\" class=\"node\">\n",
       "<title>0</title>\n",
       "<ellipse fill=\"none\" stroke=\"#000000\" cx=\"256.6875\" cy=\"-791.1361\" rx=\"87.6362\" ry=\"87.6362\"/>\n",
       "<text text-anchor=\"middle\" x=\"256.6875\" y=\"-786.9361\" font-family=\"Times,serif\" font-size=\"14.00\" fill=\"#000000\">Kilometeres&lt;34745</text>\n",
       "</g>\n",
       "<!-- 1 -->\n",
       "<g id=\"node2\" class=\"node\">\n",
       "<title>1</title>\n",
       "<ellipse fill=\"none\" stroke=\"#000000\" cx=\"180.6875\" cy=\"-602.9234\" rx=\"47.6898\" ry=\"47.6898\"/>\n",
       "<text text-anchor=\"middle\" x=\"180.6875\" y=\"-598.7234\" font-family=\"Times,serif\" font-size=\"14.00\" fill=\"#000000\">Wt&lt;1088</text>\n",
       "</g>\n",
       "<!-- 0&#45;&gt;1 -->\n",
       "<g id=\"edge1\" class=\"edge\">\n",
       "<title>0&#45;&gt;1</title>\n",
       "<path fill=\"none\" stroke=\"#0000ff\" d=\"M223.7948,-709.6779C216.5512,-691.7392 209.0554,-673.176 202.3862,-656.6599\"/>\n",
       "<polygon fill=\"#0000ff\" stroke=\"#0000ff\" points=\"205.5529,-655.1542 198.5632,-647.1921 199.0621,-657.7752 205.5529,-655.1542\"/>\n",
       "<text text-anchor=\"middle\" x=\"247.2976\" y=\"-672.7182\" font-family=\"Times,serif\" font-size=\"14.00\" fill=\"#000000\">yes, missing</text>\n",
       "</g>\n",
       "<!-- 2 -->\n",
       "<g id=\"node3\" class=\"node\">\n",
       "<title>2</title>\n",
       "<ellipse fill=\"none\" stroke=\"#000000\" cx=\"333.6875\" cy=\"-602.9234\" rx=\"47.6898\" ry=\"47.6898\"/>\n",
       "<text text-anchor=\"middle\" x=\"333.6875\" y=\"-598.7234\" font-family=\"Times,serif\" font-size=\"14.00\" fill=\"#000000\">Wt&lt;1163</text>\n",
       "</g>\n",
       "<!-- 0&#45;&gt;2 -->\n",
       "<g id=\"edge2\" class=\"edge\">\n",
       "<title>0&#45;&gt;2</title>\n",
       "<path fill=\"none\" stroke=\"#ff0000\" d=\"M290.013,-709.6779C297.3519,-691.7392 304.9463,-673.176 311.7033,-656.6599\"/>\n",
       "<polygon fill=\"#ff0000\" stroke=\"#ff0000\" points=\"315.0295,-657.7728 315.5766,-647.1921 308.5507,-655.1222 315.0295,-657.7728\"/>\n",
       "<text text-anchor=\"middle\" x=\"313.6875\" y=\"-672.7182\" font-family=\"Times,serif\" font-size=\"14.00\" fill=\"#000000\">no</text>\n",
       "</g>\n",
       "<!-- 3 -->\n",
       "<g id=\"node4\" class=\"node\">\n",
       "<title>3</title>\n",
       "<polygon fill=\"none\" stroke=\"#000000\" points=\"115.5631,-432.7107 3.8119,-432.7107 3.8119,-396.7107 115.5631,-396.7107 115.5631,-432.7107\"/>\n",
       "<text text-anchor=\"middle\" x=\"59.6875\" y=\"-410.5107\" font-family=\"Times,serif\" font-size=\"14.00\" fill=\"#000000\">leaf=781.086487</text>\n",
       "</g>\n",
       "<!-- 1&#45;&gt;3 -->\n",
       "<g id=\"edge3\" class=\"edge\">\n",
       "<title>1&#45;&gt;3</title>\n",
       "<path fill=\"none\" stroke=\"#0000ff\" d=\"M142.3277,-574.5175C129.9554,-563.9114 116.9928,-551.0766 107.4673,-537.3286 87.2254,-508.1137 73.9408,-469.1256 66.6327,-443.0306\"/>\n",
       "<polygon fill=\"#0000ff\" stroke=\"#0000ff\" points=\"69.9233,-441.7886 63.9498,-433.0382 63.1627,-443.6038 69.9233,-441.7886\"/>\n",
       "<text text-anchor=\"middle\" x=\"142.2976\" y=\"-524.7286\" font-family=\"Times,serif\" font-size=\"14.00\" fill=\"#000000\">yes, missing</text>\n",
       "</g>\n",
       "<!-- 4 -->\n",
       "<g id=\"node5\" class=\"node\">\n",
       "<title>4</title>\n",
       "<ellipse fill=\"none\" stroke=\"#000000\" cx=\"180.6875\" cy=\"-414.7107\" rx=\"47.6898\" ry=\"47.6898\"/>\n",
       "<text text-anchor=\"middle\" x=\"180.6875\" y=\"-410.5107\" font-family=\"Times,serif\" font-size=\"14.00\" fill=\"#000000\">Wt&lt;1128</text>\n",
       "</g>\n",
       "<!-- 1&#45;&gt;4 -->\n",
       "<g id=\"edge4\" class=\"edge\">\n",
       "<title>1&#45;&gt;4</title>\n",
       "<path fill=\"none\" stroke=\"#ff0000\" d=\"M180.6875,-554.9424C180.6875,-529.9438 180.6875,-499.1759 180.6875,-472.8356\"/>\n",
       "<polygon fill=\"#ff0000\" stroke=\"#ff0000\" points=\"184.1876,-472.604 180.6875,-462.6041 177.1876,-472.6041 184.1876,-472.604\"/>\n",
       "<text text-anchor=\"middle\" x=\"187.6875\" y=\"-524.7286\" font-family=\"Times,serif\" font-size=\"14.00\" fill=\"#000000\">no</text>\n",
       "</g>\n",
       "<!-- 5 -->\n",
       "<g id=\"node8\" class=\"node\">\n",
       "<title>5</title>\n",
       "<ellipse fill=\"none\" stroke=\"#000000\" cx=\"333.6875\" cy=\"-414.7107\" rx=\"87.6362\" ry=\"87.6362\"/>\n",
       "<text text-anchor=\"middle\" x=\"333.6875\" y=\"-410.5107\" font-family=\"Times,serif\" font-size=\"14.00\" fill=\"#000000\">Kilometeres&lt;68973</text>\n",
       "</g>\n",
       "<!-- 2&#45;&gt;5 -->\n",
       "<g id=\"edge7\" class=\"edge\">\n",
       "<title>2&#45;&gt;5</title>\n",
       "<path fill=\"none\" stroke=\"#0000ff\" d=\"M333.6875,-554.9424C333.6875,-542.0227 333.6875,-527.5622 333.6875,-512.9682\"/>\n",
       "<polygon fill=\"#0000ff\" stroke=\"#0000ff\" points=\"337.1876,-512.8606 333.6875,-502.8607 330.1876,-512.8607 337.1876,-512.8606\"/>\n",
       "<text text-anchor=\"middle\" x=\"368.2976\" y=\"-524.7286\" font-family=\"Times,serif\" font-size=\"14.00\" fill=\"#000000\">yes, missing</text>\n",
       "</g>\n",
       "<!-- 6 -->\n",
       "<g id=\"node9\" class=\"node\">\n",
       "<title>6</title>\n",
       "<polygon fill=\"none\" stroke=\"#000000\" points=\"551.5631,-432.7107 439.8119,-432.7107 439.8119,-396.7107 551.5631,-396.7107 551.5631,-432.7107\"/>\n",
       "<text text-anchor=\"middle\" x=\"495.6875\" y=\"-410.5107\" font-family=\"Times,serif\" font-size=\"14.00\" fill=\"#000000\">leaf=1092.62219</text>\n",
       "</g>\n",
       "<!-- 2&#45;&gt;6 -->\n",
       "<g id=\"edge8\" class=\"edge\">\n",
       "<title>2&#45;&gt;6</title>\n",
       "<path fill=\"none\" stroke=\"#ff0000\" d=\"M370.7599,-572.3244C382.7366,-561.7434 395.7393,-549.4811 406.6875,-537.3286 434.4066,-506.5605 461.6927,-467.2609 478.5947,-441.5602\"/>\n",
       "<polygon fill=\"#ff0000\" stroke=\"#ff0000\" points=\"481.5978,-443.3624 484.1237,-433.073 475.7326,-439.5414 481.5978,-443.3624\"/>\n",
       "<text text-anchor=\"middle\" x=\"427.6875\" y=\"-524.7286\" font-family=\"Times,serif\" font-size=\"14.00\" fill=\"#000000\">no</text>\n",
       "</g>\n",
       "<!-- 7 -->\n",
       "<g id=\"node6\" class=\"node\">\n",
       "<title>7</title>\n",
       "<polygon fill=\"none\" stroke=\"#000000\" points=\"111.5631,-199.4464 -.1881,-199.4464 -.1881,-163.4464 111.5631,-163.4464 111.5631,-199.4464\"/>\n",
       "<text text-anchor=\"middle\" x=\"55.6875\" y=\"-177.2464\" font-family=\"Times,serif\" font-size=\"14.00\" fill=\"#000000\">leaf=1139.38232</text>\n",
       "</g>\n",
       "<!-- 4&#45;&gt;7 -->\n",
       "<g id=\"edge5\" class=\"edge\">\n",
       "<title>4&#45;&gt;7</title>\n",
       "<path fill=\"none\" stroke=\"#0000ff\" d=\"M156.1476,-373.7299C146.7367,-358.7016 135.6249,-341.7437 124.6875,-326.8928 118.4748,-318.4571 114.9487,-317.821 109.4673,-308.8928 89.7225,-276.7323 73.954,-236.0337 64.7199,-209.3966\"/>\n",
       "<polygon fill=\"#0000ff\" stroke=\"#0000ff\" points=\"67.9192,-207.9321 61.394,-199.5851 61.2897,-210.1794 67.9192,-207.9321\"/>\n",
       "<text text-anchor=\"middle\" x=\"144.2976\" y=\"-296.2928\" font-family=\"Times,serif\" font-size=\"14.00\" fill=\"#000000\">yes, missing</text>\n",
       "</g>\n",
       "<!-- 8 -->\n",
       "<g id=\"node7\" class=\"node\">\n",
       "<title>8</title>\n",
       "<polygon fill=\"none\" stroke=\"#000000\" points=\"240.5631,-199.4464 128.8119,-199.4464 128.8119,-163.4464 240.5631,-163.4464 240.5631,-199.4464\"/>\n",
       "<text text-anchor=\"middle\" x=\"184.6875\" y=\"-177.2464\" font-family=\"Times,serif\" font-size=\"14.00\" fill=\"#000000\">leaf=1506.51379</text>\n",
       "</g>\n",
       "<!-- 4&#45;&gt;8 -->\n",
       "<g id=\"edge6\" class=\"edge\">\n",
       "<title>4&#45;&gt;8</title>\n",
       "<path fill=\"none\" stroke=\"#ff0000\" d=\"M181.5066,-366.9433C182.3172,-319.6711 183.5311,-248.8842 184.2006,-209.8412\"/>\n",
       "<polygon fill=\"#ff0000\" stroke=\"#ff0000\" points=\"187.7021,-209.7754 184.3742,-199.7168 180.7032,-209.6553 187.7021,-209.7754\"/>\n",
       "<text text-anchor=\"middle\" x=\"189.6875\" y=\"-296.2928\" font-family=\"Times,serif\" font-size=\"14.00\" fill=\"#000000\">no</text>\n",
       "</g>\n",
       "<!-- 9 -->\n",
       "<g id=\"node10\" class=\"node\">\n",
       "<title>9</title>\n",
       "<ellipse fill=\"none\" stroke=\"#000000\" cx=\"313.6875\" cy=\"-181.4464\" rx=\"47.6898\" ry=\"47.6898\"/>\n",
       "<text text-anchor=\"middle\" x=\"313.6875\" y=\"-177.2464\" font-family=\"Times,serif\" font-size=\"14.00\" fill=\"#000000\">Wt&lt;1093</text>\n",
       "</g>\n",
       "<!-- 5&#45;&gt;9 -->\n",
       "<g id=\"edge9\" class=\"edge\">\n",
       "<title>5&#45;&gt;9</title>\n",
       "<path fill=\"none\" stroke=\"#0000ff\" d=\"M326.1833,-327.188C323.6685,-297.8573 320.9288,-265.9028 318.6572,-239.4093\"/>\n",
       "<polygon fill=\"#0000ff\" stroke=\"#0000ff\" points=\"322.1206,-238.8308 317.779,-229.1664 315.1461,-239.4289 322.1206,-238.8308\"/>\n",
       "<text text-anchor=\"middle\" x=\"359.2976\" y=\"-296.2928\" font-family=\"Times,serif\" font-size=\"14.00\" fill=\"#000000\">yes, missing</text>\n",
       "</g>\n",
       "<!-- 10 -->\n",
       "<g id=\"node11\" class=\"node\">\n",
       "<title>10</title>\n",
       "<ellipse fill=\"none\" stroke=\"#000000\" cx=\"471.6875\" cy=\"-181.4464\" rx=\"92.793\" ry=\"92.793\"/>\n",
       "<text text-anchor=\"middle\" x=\"471.6875\" y=\"-177.2464\" font-family=\"Times,serif\" font-size=\"14.00\" fill=\"#000000\">Kilometeres&lt;120437</text>\n",
       "</g>\n",
       "<!-- 5&#45;&gt;10 -->\n",
       "<g id=\"edge10\" class=\"edge\">\n",
       "<title>5&#45;&gt;10</title>\n",
       "<path fill=\"none\" stroke=\"#ff0000\" d=\"M379.3049,-339.6609C385.5115,-329.3408 391.7765,-318.8665 397.6875,-308.8928 405.0006,-296.5532 412.6596,-283.5062 420.1623,-270.6532\"/>\n",
       "<polygon fill=\"#ff0000\" stroke=\"#ff0000\" points=\"423.3124,-272.199 425.3253,-261.7971 417.2651,-268.6734 423.3124,-272.199\"/>\n",
       "<text text-anchor=\"middle\" x=\"413.6875\" y=\"-296.2928\" font-family=\"Times,serif\" font-size=\"14.00\" fill=\"#000000\">no</text>\n",
       "</g>\n",
       "<!-- 11 -->\n",
       "<g id=\"node12\" class=\"node\">\n",
       "<title>11</title>\n",
       "<polygon fill=\"none\" stroke=\"#000000\" points=\"248.5631,-36 136.8119,-36 136.8119,0 248.5631,0 248.5631,-36\"/>\n",
       "<text text-anchor=\"middle\" x=\"192.6875\" y=\"-13.8\" font-family=\"Times,serif\" font-size=\"14.00\" fill=\"#000000\">leaf=706.705872</text>\n",
       "</g>\n",
       "<!-- 9&#45;&gt;11 -->\n",
       "<g id=\"edge11\" class=\"edge\">\n",
       "<title>9&#45;&gt;11</title>\n",
       "<path fill=\"none\" stroke=\"#0000ff\" d=\"M287.2224,-141.7765C275.9274,-125.207 262.433,-105.8764 249.6875,-88.8 238.3536,-73.6148 225.1115,-57.0981 214.2448,-43.84\"/>\n",
       "<polygon fill=\"#0000ff\" stroke=\"#0000ff\" points=\"216.8842,-41.5392 207.824,-36.047 211.4817,-45.9904 216.8842,-41.5392\"/>\n",
       "<text text-anchor=\"middle\" x=\"269.2976\" y=\"-58.2\" font-family=\"Times,serif\" font-size=\"14.00\" fill=\"#000000\">yes, missing</text>\n",
       "</g>\n",
       "<!-- 12 -->\n",
       "<g id=\"node13\" class=\"node\">\n",
       "<title>12</title>\n",
       "<polygon fill=\"none\" stroke=\"#000000\" points=\"377.5631,-36 265.8119,-36 265.8119,0 377.5631,0 377.5631,-36\"/>\n",
       "<text text-anchor=\"middle\" x=\"321.6875\" y=\"-13.8\" font-family=\"Times,serif\" font-size=\"14.00\" fill=\"#000000\">leaf=947.637756</text>\n",
       "</g>\n",
       "<!-- 9&#45;&gt;12 -->\n",
       "<g id=\"edge12\" class=\"edge\">\n",
       "<title>9&#45;&gt;12</title>\n",
       "<path fill=\"none\" stroke=\"#ff0000\" d=\"M316.0229,-133.7315C317.4067,-105.4595 319.114,-70.5782 320.2904,-46.5436\"/>\n",
       "<polygon fill=\"#ff0000\" stroke=\"#ff0000\" points=\"323.7973,-46.4858 320.7905,-36.3266 316.8057,-46.1436 323.7973,-46.4858\"/>\n",
       "<text text-anchor=\"middle\" x=\"327.6875\" y=\"-58.2\" font-family=\"Times,serif\" font-size=\"14.00\" fill=\"#000000\">no</text>\n",
       "</g>\n",
       "<!-- 13 -->\n",
       "<g id=\"node14\" class=\"node\">\n",
       "<title>13</title>\n",
       "<polygon fill=\"none\" stroke=\"#000000\" points=\"508.0632,-36 403.3118,-36 403.3118,0 508.0632,0 508.0632,-36\"/>\n",
       "<text text-anchor=\"middle\" x=\"455.6875\" y=\"-13.8\" font-family=\"Times,serif\" font-size=\"14.00\" fill=\"#000000\">leaf=628.38031</text>\n",
       "</g>\n",
       "<!-- 10&#45;&gt;13 -->\n",
       "<g id=\"edge13\" class=\"edge\">\n",
       "<title>10&#45;&gt;13</title>\n",
       "<path fill=\"none\" stroke=\"#0000ff\" d=\"M462.6588,-89.2145C461.1237,-73.5331 459.64,-58.3766 458.4389,-46.1064\"/>\n",
       "<polygon fill=\"#0000ff\" stroke=\"#0000ff\" points=\"461.9196,-45.7374 457.4619,-36.1259 454.9529,-46.4194 461.9196,-45.7374\"/>\n",
       "<text text-anchor=\"middle\" x=\"495.2976\" y=\"-58.2\" font-family=\"Times,serif\" font-size=\"14.00\" fill=\"#000000\">yes, missing</text>\n",
       "</g>\n",
       "<!-- 14 -->\n",
       "<g id=\"node15\" class=\"node\">\n",
       "<title>14</title>\n",
       "<polygon fill=\"none\" stroke=\"#000000\" points=\"637.5631,-36 525.8119,-36 525.8119,0 637.5631,0 637.5631,-36\"/>\n",
       "<text text-anchor=\"middle\" x=\"581.6875\" y=\"-13.8\" font-family=\"Times,serif\" font-size=\"14.00\" fill=\"#000000\">leaf=539.147827</text>\n",
       "</g>\n",
       "<!-- 10&#45;&gt;14 -->\n",
       "<g id=\"edge14\" class=\"edge\">\n",
       "<title>10&#45;&gt;14</title>\n",
       "<path fill=\"none\" stroke=\"#ff0000\" d=\"M523.4665,-104.5092C537.9477,-82.9919 552.7278,-61.0306 563.7725,-44.6194\"/>\n",
       "<polygon fill=\"#ff0000\" stroke=\"#ff0000\" points=\"566.8189,-46.3616 569.4986,-36.1112 561.0115,-42.4532 566.8189,-46.3616\"/>\n",
       "<text text-anchor=\"middle\" x=\"562.6875\" y=\"-58.2\" font-family=\"Times,serif\" font-size=\"14.00\" fill=\"#000000\">no</text>\n",
       "</g>\n",
       "</g>\n",
       "</svg>\n"
      ],
      "text/plain": [
       "<graphviz.dot.Digraph at 0x7fc3f412bd30>"
      ]
     },
     "execution_count": 12,
     "metadata": {},
     "output_type": "execute_result"
    }
   ],
   "source": [
    "# sample tree from model\n",
    "xgb.to_graphviz(model)"
   ]
  }
 ],
 "metadata": {
  "kernelspec": {
   "display_name": "Python 3",
   "language": "python",
   "name": "python3"
  },
  "language_info": {
   "codemirror_mode": {
    "name": "ipython",
    "version": 3
   },
   "file_extension": ".py",
   "mimetype": "text/x-python",
   "name": "python",
   "nbconvert_exporter": "python",
   "pygments_lexer": "ipython3",
   "version": "3.7.1"
  }
 },
 "nbformat": 4,
 "nbformat_minor": 2
}
